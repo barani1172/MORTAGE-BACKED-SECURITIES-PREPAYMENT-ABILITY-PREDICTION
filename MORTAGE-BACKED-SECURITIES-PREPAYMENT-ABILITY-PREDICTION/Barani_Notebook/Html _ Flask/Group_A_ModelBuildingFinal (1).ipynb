{
 "cells": [
  {
   "cell_type": "markdown",
   "metadata": {
    "id": "_mUmGLDaBj3e"
   },
   "source": [
    "## Import Libraries"
   ]
  },
  {
   "cell_type": "code",
   "execution_count": 48,
   "metadata": {
    "id": "Zs0-kYBp7sBm"
   },
   "outputs": [],
   "source": [
    "import pandas as pd\n",
    "\n",
    "import matplotlib.pyplot as plt\n",
    "\n",
    "import seaborn as sns\n",
    "\n",
    "import warnings\n",
    "\n",
    "import numpy as np\n",
    "\n",
    "from sklearn.impute import KNNImputer\n",
    "from sklearn.preprocessing import LabelEncoder, StandardScaler\n",
    "from sklearn.decomposition import PCA\n",
    "from sklearn.cluster import KMeans\n",
    "from sklearn.model_selection import train_test_split\n",
    "from sklearn.linear_model import LogisticRegression\n",
    "from sklearn import metrics\n",
    "from sklearn.neighbors import KNeighborsClassifier\n",
    "from sklearn.metrics import classification_report"
   ]
  },
  {
   "cell_type": "markdown",
   "metadata": {
    "id": "uvZ5VvwOBqhN"
   },
   "source": [
    "## Set Option"
   ]
  },
  {
   "cell_type": "code",
   "execution_count": 49,
   "metadata": {
    "id": "0JyNZq3NBm4p"
   },
   "outputs": [],
   "source": [
    "pd.set_option('display.max_columns', None)\n",
    "\n",
    "warnings.filterwarnings('ignore')"
   ]
  },
  {
   "cell_type": "markdown",
   "metadata": {
    "id": "X7IDlZMVBvNP"
   },
   "source": [
    "## Read Data"
   ]
  },
  {
   "cell_type": "code",
   "execution_count": 50,
   "metadata": {
    "colab": {
     "base_uri": "https://localhost:8080/"
    },
    "id": "Drxv1vbLYa4b",
    "outputId": "3c99402a-6b29-4662-a7de-34bf06e9d68c"
   },
   "outputs": [],
   "source": [
    "#from google.colab import drive\n",
    "#drive.mount('/content/drive')"
   ]
  },
  {
   "cell_type": "code",
   "execution_count": 51,
   "metadata": {
    "colab": {
     "base_uri": "https://localhost:8080/"
    },
    "id": "_RorjiN3IY6-",
    "outputId": "64fe619d-5bfa-4b55-8c38-8bde26f34a34"
   },
   "outputs": [],
   "source": [
    " #!ls /content/drive/MyDrive/Technocolabs_Project/Data-Analyst-Internship-Project-Code-TCSDA45689/data/LoanExport.csv"
   ]
  },
  {
   "cell_type": "code",
   "execution_count": 52,
   "metadata": {
    "id": "AkqBI63EZuc5"
   },
   "outputs": [],
   "source": [
    "#df_loan = pd.read_csv(\"/content/drive/MyDrive/Technocolabs_Project/Data-Analyst-Internship-Project-Code-TCSDA45689/data/LoanExport.csv\")\n",
    "#df_final = pd.read_csv(\"/content/drive/MyDrive/Technocolabs_Project/Data-Analyst-Internship-Project-Code-TCSDA45689/data/FinalData.csv\")"
   ]
  },
  {
   "cell_type": "code",
   "execution_count": 53,
   "metadata": {},
   "outputs": [],
   "source": [
    "df_loan = pd.read_csv('/Users/nisha/TechnoColabs/Data-Analyst-Internship-Project-Code-TCSDA45689/data/LoanExport.csv')"
   ]
  },
  {
   "cell_type": "markdown",
   "metadata": {
    "id": "ER4DfBgyIpZN"
   },
   "source": [
    "## User defined function"
   ]
  },
  {
   "cell_type": "code",
   "execution_count": 54,
   "metadata": {
    "id": "8RG7Ic2QI5DZ"
   },
   "outputs": [],
   "source": [
    "# Function for replace the Not Available values to \"nan\"\n",
    "def feature_nan(df):\n",
    "  df.replace('X', np.NaN, inplace = True)\n",
    "  df['CreditScore'].replace( 0, np.NaN, inplace = True)\n",
    "  df['LTV'].replace( 0, np.NaN, inplace = True)\n",
    "  df['Units'].replace( 0, np.NaN, inplace = True)\n",
    "  return(df)"
   ]
  },
  {
   "cell_type": "code",
   "execution_count": 55,
   "metadata": {
    "id": "Fb7D63PwG7uw"
   },
   "outputs": [],
   "source": [
    "# Function for converting MSA feature to [1,0]\n",
    "def feature_msa(df):\n",
    "  df['MSA'].iloc[df['MSA'].notnull()] = 1\n",
    "  df['MSA'].fillna(0, inplace = True)\n",
    "  df['MSA'] = df['MSA'].astype('category')\n",
    "  return(df)"
   ]
  },
  {
   "cell_type": "code",
   "execution_count": 56,
   "metadata": {
    "id": "euFGyWKHJKdX"
   },
   "outputs": [],
   "source": [
    "# Function for correct the data type of features\n",
    "def feature_dtype(df):\n",
    "  df['MSA'] = df['MSA'].astype('object')\n",
    "  df['Units'] = df['Units'].astype('object')\n",
    "  df['EverDelinquent'] = df['EverDelinquent'].astype('object')\n",
    "  return(df)"
   ]
  },
  {
   "cell_type": "code",
   "execution_count": 57,
   "metadata": {
    "id": "rgQnlPe36dmY"
   },
   "outputs": [],
   "source": [
    "# Function for strip the column values\n",
    "def feature_strip(df):\n",
    "  cols = df.select_dtypes(object).columns\n",
    "  df[cols] = df[cols].apply(lambda x: x.str.strip())\n",
    "  return(df)"
   ]
  },
  {
   "cell_type": "code",
   "execution_count": 58,
   "metadata": {
    "id": "Y2Euj5hJI6xS"
   },
   "outputs": [],
   "source": [
    "# Function for drop the unwanted columns\n",
    "def feature_drop(df):\n",
    "  df.drop(columns = ['OCLTV', 'PropertyState', 'PostalCode', 'LoanSeqNum', 'SellerName', \n",
    "                     'ServicerName', 'MonthsDelinquent', 'FirstPaymentDate', 'MaturityDate', 'ProductType'],axis = 1, inplace = True)\n",
    "  return(df)"
   ]
  },
  {
   "cell_type": "markdown",
   "metadata": {
    "id": "hvNu37dy7X_s"
   },
   "source": [
    "## Data Preprocessing"
   ]
  },
  {
   "cell_type": "code",
   "execution_count": 59,
   "metadata": {
    "id": "YQ13cSCN7Da0"
   },
   "outputs": [],
   "source": [
    "df_process = df_loan.copy() # Create a copy of dataset"
   ]
  },
  {
   "cell_type": "markdown",
   "metadata": {
    "id": "yUp8K4R57s8l"
   },
   "source": [
    "Calling function **feature_strip()** for strip the whitespace of feature values. While analysing the date whitespace is found on feature values of **PropertyType and MSA**"
   ]
  },
  {
   "cell_type": "code",
   "execution_count": 60,
   "metadata": {},
   "outputs": [
    {
     "data": {
      "text/plain": [
       "Index(['CreditScore', 'FirstPaymentDate', 'FirstTimeHomebuyer', 'MaturityDate',\n",
       "       'MSA', 'MIP', 'Units', 'Occupancy', 'OCLTV', 'DTI', 'OrigUPB', 'LTV',\n",
       "       'OrigInterestRate', 'Channel', 'PPM', 'ProductType', 'PropertyState',\n",
       "       'PropertyType', 'PostalCode', 'LoanSeqNum', 'LoanPurpose',\n",
       "       'OrigLoanTerm', 'NumBorrowers', 'SellerName', 'ServicerName',\n",
       "       'EverDelinquent', 'MonthsDelinquent', 'MonthsInRepayment'],\n",
       "      dtype='object')"
      ]
     },
     "execution_count": 60,
     "metadata": {},
     "output_type": "execute_result"
    }
   ],
   "source": [
    "df_process.columns"
   ]
  },
  {
   "cell_type": "code",
   "execution_count": 61,
   "metadata": {},
   "outputs": [
    {
     "data": {
      "text/plain": [
       "Index(['CreditScore', 'FirstPaymentDate', 'FirstTimeHomebuyer', 'MaturityDate',\n",
       "       'MSA', 'MIP', 'Units', 'Occupancy', 'OCLTV', 'DTI', 'OrigUPB', 'LTV',\n",
       "       'OrigInterestRate', 'Channel', 'PPM', 'ProductType', 'PropertyState',\n",
       "       'PropertyType', 'PostalCode', 'LoanSeqNum', 'LoanPurpose',\n",
       "       'OrigLoanTerm', 'NumBorrowers', 'SellerName', 'ServicerName',\n",
       "       'EverDelinquent', 'MonthsDelinquent', 'MonthsInRepayment'],\n",
       "      dtype='object')"
      ]
     },
     "execution_count": 61,
     "metadata": {},
     "output_type": "execute_result"
    }
   ],
   "source": [
    "df_loan.columns"
   ]
  },
  {
   "cell_type": "code",
   "execution_count": null,
   "metadata": {},
   "outputs": [],
   "source": []
  },
  {
   "cell_type": "code",
   "execution_count": 15,
   "metadata": {
    "id": "54fuXfjW7grM"
   },
   "outputs": [],
   "source": [
    "df_process= feature_strip(df_process)"
   ]
  },
  {
   "cell_type": "markdown",
   "metadata": {
    "id": "YCZ8RUsJ8OyG"
   },
   "source": [
    "While analysing the data we can see that there are lot of Not Applicable values. In the dataset it is mentioned as X or 0. We are replacing these values with NaN by calling function **feature_nan()**"
   ]
  },
  {
   "cell_type": "code",
   "execution_count": 16,
   "metadata": {
    "id": "a-Zfx6hY8tXb"
   },
   "outputs": [],
   "source": [
    "df_process = feature_nan(df_process)"
   ]
  },
  {
   "cell_type": "markdown",
   "metadata": {
    "id": "Pch0k3BQ80qU"
   },
   "source": [
    "Initially we are having null values only in the feature \"SellerName\". After this we can see lot of other features which contains null values."
   ]
  },
  {
   "cell_type": "code",
   "execution_count": 17,
   "metadata": {
    "colab": {
     "base_uri": "https://localhost:8080/"
    },
    "id": "DDGfjFBK8y5t",
    "outputId": "05af458d-3dfe-4971-f880-4b5c41ec6869"
   },
   "outputs": [
    {
     "data": {
      "text/plain": [
       "CreditScore            1189\n",
       "FirstPaymentDate          0\n",
       "FirstTimeHomebuyer    78015\n",
       "MaturityDate              0\n",
       "MSA                   39100\n",
       "MIP                       0\n",
       "Units                     2\n",
       "Occupancy                 0\n",
       "OCLTV                     0\n",
       "DTI                       0\n",
       "OrigUPB                   0\n",
       "LTV                       5\n",
       "OrigInterestRate          0\n",
       "Channel                   0\n",
       "PPM                    5405\n",
       "ProductType               0\n",
       "PropertyState             0\n",
       "PropertyType             22\n",
       "PostalCode            98310\n",
       "LoanSeqNum                0\n",
       "LoanPurpose               0\n",
       "OrigLoanTerm              0\n",
       "NumBorrowers            339\n",
       "SellerName            24994\n",
       "ServicerName              0\n",
       "EverDelinquent            0\n",
       "MonthsDelinquent          0\n",
       "MonthsInRepayment         0\n",
       "dtype: int64"
      ]
     },
     "execution_count": 17,
     "metadata": {},
     "output_type": "execute_result"
    }
   ],
   "source": [
    "df_process.isnull().sum()"
   ]
  },
  {
   "cell_type": "markdown",
   "metadata": {
    "id": "_ezh2QIg9Phr"
   },
   "source": [
    "We are going to delete the null values of **PropertyType, Units and LTV**, since the null value rows are very less."
   ]
  },
  {
   "cell_type": "code",
   "execution_count": 18,
   "metadata": {
    "id": "QHfAb1HT9G6G"
   },
   "outputs": [],
   "source": [
    "df_process.dropna(subset = ['PropertyType', 'Units', 'LTV'], inplace = True)"
   ]
  },
  {
   "cell_type": "markdown",
   "metadata": {
    "id": "4OmC_DUt-EtL"
   },
   "source": [
    "Here we are converting feature **MSA** to 1 and 0. Since this feature provide the information of Metropolitan Division code, we convert the feature to 1 if the Metropolitan Division code is availabe and converted to 0 if code is not present. The function **feature_msa()** to convert this."
   ]
  },
  {
   "cell_type": "code",
   "execution_count": 19,
   "metadata": {
    "id": "Yh27hsnU-FKT"
   },
   "outputs": [],
   "source": [
    "df_process = feature_msa(df_process)"
   ]
  },
  {
   "cell_type": "markdown",
   "metadata": {
    "id": "LN8a11qZ_vXI"
   },
   "source": [
    "Here we convert the features to correct datatype by calling function **feature_dtype()**"
   ]
  },
  {
   "cell_type": "code",
   "execution_count": 20,
   "metadata": {
    "id": "TQDpEso3_8cp"
   },
   "outputs": [],
   "source": [
    "df_process = feature_dtype(df_process)"
   ]
  },
  {
   "cell_type": "markdown",
   "metadata": {
    "id": "R0mWbXeH9bTK"
   },
   "source": [
    "Droping of unwanted features by calling funection **feature_drop()**"
   ]
  },
  {
   "cell_type": "code",
   "execution_count": 21,
   "metadata": {
    "id": "XEFcwBqU9Vzv"
   },
   "outputs": [],
   "source": [
    "df_process = feature_drop(df_process)"
   ]
  },
  {
   "cell_type": "markdown",
   "metadata": {
    "id": "Wz5TIYg5AEDP"
   },
   "source": [
    "Here we deleted below features ['OCLTV', 'PropertyState', 'PostalCode', 'LoanSeqNum', 'SellerName', 'ServicerName', 'MonthsDelinquent', 'FirstPaymentDate', 'MaturityDate', 'ProductType']\n",
    "1. OCLTV - \"OCLTV\" is highly correlated with LTV so we deleted it.\n",
    "2. PropertyState - Repayment capacity is depends on customer not with the state of the property.\n",
    "3. PostalCode - Repayment capacity is depends on customer not with the PostalCode.\n",
    "4. LoanSeqNum - This is a unique value of the disbursed loan.\n",
    "5. SellerName - Repayment capacity is depends on customer not depends on the seller.\n",
    "6. ServicerName - Repayment capacity is depends on customer not depends on the servicer.\n",
    "7. MonthsDelinquent - We observed a relation between the \"EverDelinquent\" and \"MonthsDelinquent\". Only if the EverDelinquent is 1, then only values present on MonthsDelinquent. Since EverDelinquent is a categorical varibale we retained that.\n",
    "8. FirstPaymentDate - Since \"OrigLoanTerm\" is the difference of \"FirstPaymentDate\" and \"MaturityDate\" we deleted.\n",
    "9. MaturityDate - Since \"OrigLoanTerm\" is the difference of \"FirstPaymentDate\" and \"MaturityDate\" we deleted.\n",
    "10. ProductType - There is only one feature we are having. So we deleted it."
   ]
  },
  {
   "cell_type": "markdown",
   "metadata": {
    "id": "86P2M6jyDPpU"
   },
   "source": [
    "### Label Encoding & Scalling"
   ]
  },
  {
   "cell_type": "markdown",
   "metadata": {
    "id": "Q-adNeTdDeah"
   },
   "source": [
    "Here we are using LabelEncoding for converting the Object datatype to numeric datatype. We mask the **NaN** values, so that it will not get encoded. After this we used standard scalling for scale the data."
   ]
  },
  {
   "cell_type": "code",
   "execution_count": 22,
   "metadata": {
    "id": "Y-t1BlqtADRj"
   },
   "outputs": [],
   "source": [
    "label_encoder = LabelEncoder()\n",
    "original = df_process\n",
    "mask = df_process.isnull()\n",
    "df_process = df_process.astype(str).apply(label_encoder.fit_transform).where(~mask, original)"
   ]
  },
  {
   "cell_type": "code",
   "execution_count": 82,
   "metadata": {},
   "outputs": [
    {
     "data": {
      "text/plain": [
       "[]"
      ]
     },
     "execution_count": 82,
     "metadata": {},
     "output_type": "execute_result"
    }
   ],
   "source": []
  },
  {
   "cell_type": "code",
   "execution_count": 23,
   "metadata": {
    "id": "aviibcLQUgKM"
   },
   "outputs": [],
   "source": [
    "# Standard scalling\n",
    "scale= StandardScaler()\n",
    "df_scaled = scale.fit_transform(df_process)"
   ]
  },
  {
   "cell_type": "markdown",
   "metadata": {
    "id": "UXOMlA1IENsV"
   },
   "source": [
    "### Split dataset into Null and Non Null datasets"
   ]
  },
  {
   "cell_type": "markdown",
   "metadata": {
    "id": "tMG75QGzET1g"
   },
   "source": [
    "We are spliting the data contains the Null and Non Null dataset to avoid overfitting."
   ]
  },
  {
   "cell_type": "code",
   "execution_count": 24,
   "metadata": {
    "id": "MAQZkQW5EKpF"
   },
   "outputs": [],
   "source": [
    "df_notnull = df_process[df_process.isnull().any(axis=1) == False] \n",
    "df_null = df_process[df_process.isnull().any(axis=1) == True]"
   ]
  },
  {
   "cell_type": "markdown",
   "metadata": {
    "id": "DX0bOfOkEkSv"
   },
   "source": [
    "## KNN Imputer "
   ]
  },
  {
   "cell_type": "markdown",
   "metadata": {
    "id": "7T2kmMt0E7qH"
   },
   "source": [
    "Here we are using KNN Imputer to impute the missing values."
   ]
  },
  {
   "cell_type": "code",
   "execution_count": 25,
   "metadata": {
    "colab": {
     "base_uri": "https://localhost:8080/"
    },
    "id": "dC-zm992EhCJ",
    "outputId": "9ae7178a-1c76-439a-97af-3b6495bcffb0"
   },
   "outputs": [
    {
     "data": {
      "text/html": [
       "<style>#sk-container-id-1 {color: black;background-color: white;}#sk-container-id-1 pre{padding: 0;}#sk-container-id-1 div.sk-toggleable {background-color: white;}#sk-container-id-1 label.sk-toggleable__label {cursor: pointer;display: block;width: 100%;margin-bottom: 0;padding: 0.3em;box-sizing: border-box;text-align: center;}#sk-container-id-1 label.sk-toggleable__label-arrow:before {content: \"▸\";float: left;margin-right: 0.25em;color: #696969;}#sk-container-id-1 label.sk-toggleable__label-arrow:hover:before {color: black;}#sk-container-id-1 div.sk-estimator:hover label.sk-toggleable__label-arrow:before {color: black;}#sk-container-id-1 div.sk-toggleable__content {max-height: 0;max-width: 0;overflow: hidden;text-align: left;background-color: #f0f8ff;}#sk-container-id-1 div.sk-toggleable__content pre {margin: 0.2em;color: black;border-radius: 0.25em;background-color: #f0f8ff;}#sk-container-id-1 input.sk-toggleable__control:checked~div.sk-toggleable__content {max-height: 200px;max-width: 100%;overflow: auto;}#sk-container-id-1 input.sk-toggleable__control:checked~label.sk-toggleable__label-arrow:before {content: \"▾\";}#sk-container-id-1 div.sk-estimator input.sk-toggleable__control:checked~label.sk-toggleable__label {background-color: #d4ebff;}#sk-container-id-1 div.sk-label input.sk-toggleable__control:checked~label.sk-toggleable__label {background-color: #d4ebff;}#sk-container-id-1 input.sk-hidden--visually {border: 0;clip: rect(1px 1px 1px 1px);clip: rect(1px, 1px, 1px, 1px);height: 1px;margin: -1px;overflow: hidden;padding: 0;position: absolute;width: 1px;}#sk-container-id-1 div.sk-estimator {font-family: monospace;background-color: #f0f8ff;border: 1px dotted black;border-radius: 0.25em;box-sizing: border-box;margin-bottom: 0.5em;}#sk-container-id-1 div.sk-estimator:hover {background-color: #d4ebff;}#sk-container-id-1 div.sk-parallel-item::after {content: \"\";width: 100%;border-bottom: 1px solid gray;flex-grow: 1;}#sk-container-id-1 div.sk-label:hover label.sk-toggleable__label {background-color: #d4ebff;}#sk-container-id-1 div.sk-serial::before {content: \"\";position: absolute;border-left: 1px solid gray;box-sizing: border-box;top: 0;bottom: 0;left: 50%;z-index: 0;}#sk-container-id-1 div.sk-serial {display: flex;flex-direction: column;align-items: center;background-color: white;padding-right: 0.2em;padding-left: 0.2em;position: relative;}#sk-container-id-1 div.sk-item {position: relative;z-index: 1;}#sk-container-id-1 div.sk-parallel {display: flex;align-items: stretch;justify-content: center;background-color: white;position: relative;}#sk-container-id-1 div.sk-item::before, #sk-container-id-1 div.sk-parallel-item::before {content: \"\";position: absolute;border-left: 1px solid gray;box-sizing: border-box;top: 0;bottom: 0;left: 50%;z-index: -1;}#sk-container-id-1 div.sk-parallel-item {display: flex;flex-direction: column;z-index: 1;position: relative;background-color: white;}#sk-container-id-1 div.sk-parallel-item:first-child::after {align-self: flex-end;width: 50%;}#sk-container-id-1 div.sk-parallel-item:last-child::after {align-self: flex-start;width: 50%;}#sk-container-id-1 div.sk-parallel-item:only-child::after {width: 0;}#sk-container-id-1 div.sk-dashed-wrapped {border: 1px dashed gray;margin: 0 0.4em 0.5em 0.4em;box-sizing: border-box;padding-bottom: 0.4em;background-color: white;}#sk-container-id-1 div.sk-label label {font-family: monospace;font-weight: bold;display: inline-block;line-height: 1.2em;}#sk-container-id-1 div.sk-label-container {text-align: center;}#sk-container-id-1 div.sk-container {/* jupyter's `normalize.less` sets `[hidden] { display: none; }` but bootstrap.min.css set `[hidden] { display: none !important; }` so we also need the `!important` here to be able to override the default hidden behavior on the sphinx rendered scikit-learn.org. See: https://github.com/scikit-learn/scikit-learn/issues/21755 */display: inline-block !important;position: relative;}#sk-container-id-1 div.sk-text-repr-fallback {display: none;}</style><div id=\"sk-container-id-1\" class=\"sk-top-container\"><div class=\"sk-text-repr-fallback\"><pre>KNNImputer()</pre><b>In a Jupyter environment, please rerun this cell to show the HTML representation or trust the notebook. <br />On GitHub, the HTML representation is unable to render, please try loading this page with nbviewer.org.</b></div><div class=\"sk-container\" hidden><div class=\"sk-item\"><div class=\"sk-estimator sk-toggleable\"><input class=\"sk-toggleable__control sk-hidden--visually\" id=\"sk-estimator-id-1\" type=\"checkbox\" checked><label for=\"sk-estimator-id-1\" class=\"sk-toggleable__label sk-toggleable__label-arrow\">KNNImputer</label><div class=\"sk-toggleable__content\"><pre>KNNImputer()</pre></div></div></div></div></div>"
      ],
      "text/plain": [
       "KNNImputer()"
      ]
     },
     "execution_count": 25,
     "metadata": {},
     "output_type": "execute_result"
    }
   ],
   "source": [
    "imputer = KNNImputer()\n",
    "imputer.fit(df_notnull)"
   ]
  },
  {
   "cell_type": "code",
   "execution_count": 26,
   "metadata": {
    "id": "A3OMvt_EErnm"
   },
   "outputs": [],
   "source": [
    "df_imputed = imputer.fit_transform(df_null) # Take nearly 10min"
   ]
  },
  {
   "cell_type": "code",
   "execution_count": 27,
   "metadata": {
    "id": "pinKwDuOEx7H"
   },
   "outputs": [],
   "source": [
    "df_processed = pd.DataFrame(df_imputed,columns = df_process.columns)"
   ]
  },
  {
   "cell_type": "code",
   "execution_count": 28,
   "metadata": {
    "id": "fyr3zuUeFRLv"
   },
   "outputs": [],
   "source": [
    "# Combine the NonNull rows and Imputed NUllvalue rows.\n",
    "df_final = df_notnull.append(df_processed)\n",
    "\n",
    "# Sort with index\n",
    "df_final.sort_index(axis = 0, inplace = True)"
   ]
  },
  {
   "cell_type": "markdown",
   "metadata": {
    "id": "8cv-NU2EFp5d"
   },
   "source": [
    "## Model Building"
   ]
  },
  {
   "cell_type": "markdown",
   "metadata": {
    "id": "Fh7RHoCEUzU8"
   },
   "source": [
    "###1) Classify the dataset using K Mean Clustering (Model 1)"
   ]
  },
  {
   "cell_type": "code",
   "execution_count": 29,
   "metadata": {
    "id": "Tl_FnO55bp7n"
   },
   "outputs": [],
   "source": [
    "pca = PCA(n_components = 18)\n",
    "df_pca = pca.fit_transform(df_final)"
   ]
  },
  {
   "cell_type": "code",
   "execution_count": 30,
   "metadata": {
    "id": "oisT3YACUulY"
   },
   "outputs": [],
   "source": [
    "kmeans = KMeans(n_clusters=2) # Since we have to do binary classification for predicting the customer make the prepayment\n",
    "X_clustered = kmeans.fit_predict(df_pca)"
   ]
  },
  {
   "cell_type": "code",
   "execution_count": 31,
   "metadata": {
    "colab": {
     "base_uri": "https://localhost:8080/",
     "height": 428
    },
    "id": "t1bfSdcIUuiE",
    "outputId": "b04aaf7f-394c-46f6-e357-25d6c101905f"
   },
   "outputs": [
    {
     "data": {
      "image/png": "[encoded data removed]",
      "text/plain": [
       "<Figure size 648x504 with 1 Axes>"
      ]
     },
     "metadata": {
      "needs_background": "light"
     },
     "output_type": "display_data"
    }
   ],
   "source": [
    "# Define our own color map\n",
    "LABEL_COLOR_MAP = {0 : 'r',1 : 'g'}\n",
    "label_color = [LABEL_COLOR_MAP[l] for l in X_clustered]\n",
    "\n",
    "# Plot the scatter digram\n",
    "plt.figure(figsize = (9,7))\n",
    "plt.scatter(df_pca[:,0],df_pca[:,2], c= label_color, alpha=0.5) \n",
    "plt.show()"
   ]
  },
  {
   "cell_type": "code",
   "execution_count": 32,
   "metadata": {
    "id": "SSLSPcS_UuZ4"
   },
   "outputs": [],
   "source": [
    "X_clustered = pd.Series(X_clustered, name=\"Clustered\")\n",
    "df_final.reset_index(inplace=True, drop=True)\n",
    "df_data = pd.concat([df_final,X_clustered], axis = 1)"
   ]
  },
  {
   "cell_type": "markdown",
   "metadata": {
    "id": "xhMIZuEFcHSW"
   },
   "source": [
    "## Train and Test split"
   ]
  },
  {
   "cell_type": "code",
   "execution_count": 33,
   "metadata": {
    "id": "_2BidZqdbzmD"
   },
   "outputs": [],
   "source": [
    "X = df_data.iloc[:,0:18]\n",
    "y = df_data['Clustered']"
   ]
  },
  {
   "cell_type": "code",
   "execution_count": 34,
   "metadata": {
    "colab": {
     "base_uri": "https://localhost:8080/"
    },
    "id": "IqXctz9KbzhD",
    "outputId": "4c470a30-9e3b-41f3-8099-b27defa41878"
   },
   "outputs": [
    {
     "name": "stdout",
     "output_type": "stream",
     "text": [
      "(203995, 18) (87427, 18) (203995,) (87427,)\n"
     ]
    }
   ],
   "source": [
    "X_train, X_test, y_train, y_test = train_test_split(X, y, test_size=0.30, random_state = 10)\n",
    "print(X_train.shape, X_test.shape, y_train.shape, y_test.shape)"
   ]
  },
  {
   "cell_type": "markdown",
   "metadata": {
    "id": "9zJlEEaVekqk"
   },
   "source": [
    "## Logistic Regression"
   ]
  },
  {
   "cell_type": "code",
   "execution_count": 35,
   "metadata": {
    "colab": {
     "base_uri": "https://localhost:8080/"
    },
    "id": "WCMpKEU_bzcl",
    "outputId": "d206b5ad-369c-4820-c8ee-0e0469f8cc10"
   },
   "outputs": [
    {
     "data": {
      "text/html": [
       "<style>#sk-container-id-2 {color: black;background-color: white;}#sk-container-id-2 pre{padding: 0;}#sk-container-id-2 div.sk-toggleable {background-color: white;}#sk-container-id-2 label.sk-toggleable__label {cursor: pointer;display: block;width: 100%;margin-bottom: 0;padding: 0.3em;box-sizing: border-box;text-align: center;}#sk-container-id-2 label.sk-toggleable__label-arrow:before {content: \"▸\";float: left;margin-right: 0.25em;color: #696969;}#sk-container-id-2 label.sk-toggleable__label-arrow:hover:before {color: black;}#sk-container-id-2 div.sk-estimator:hover label.sk-toggleable__label-arrow:before {color: black;}#sk-container-id-2 div.sk-toggleable__content {max-height: 0;max-width: 0;overflow: hidden;text-align: left;background-color: #f0f8ff;}#sk-container-id-2 div.sk-toggleable__content pre {margin: 0.2em;color: black;border-radius: 0.25em;background-color: #f0f8ff;}#sk-container-id-2 input.sk-toggleable__control:checked~div.sk-toggleable__content {max-height: 200px;max-width: 100%;overflow: auto;}#sk-container-id-2 input.sk-toggleable__control:checked~label.sk-toggleable__label-arrow:before {content: \"▾\";}#sk-container-id-2 div.sk-estimator input.sk-toggleable__control:checked~label.sk-toggleable__label {background-color: #d4ebff;}#sk-container-id-2 div.sk-label input.sk-toggleable__control:checked~label.sk-toggleable__label {background-color: #d4ebff;}#sk-container-id-2 input.sk-hidden--visually {border: 0;clip: rect(1px 1px 1px 1px);clip: rect(1px, 1px, 1px, 1px);height: 1px;margin: -1px;overflow: hidden;padding: 0;position: absolute;width: 1px;}#sk-container-id-2 div.sk-estimator {font-family: monospace;background-color: #f0f8ff;border: 1px dotted black;border-radius: 0.25em;box-sizing: border-box;margin-bottom: 0.5em;}#sk-container-id-2 div.sk-estimator:hover {background-color: #d4ebff;}#sk-container-id-2 div.sk-parallel-item::after {content: \"\";width: 100%;border-bottom: 1px solid gray;flex-grow: 1;}#sk-container-id-2 div.sk-label:hover label.sk-toggleable__label {background-color: #d4ebff;}#sk-container-id-2 div.sk-serial::before {content: \"\";position: absolute;border-left: 1px solid gray;box-sizing: border-box;top: 0;bottom: 0;left: 50%;z-index: 0;}#sk-container-id-2 div.sk-serial {display: flex;flex-direction: column;align-items: center;background-color: white;padding-right: 0.2em;padding-left: 0.2em;position: relative;}#sk-container-id-2 div.sk-item {position: relative;z-index: 1;}#sk-container-id-2 div.sk-parallel {display: flex;align-items: stretch;justify-content: center;background-color: white;position: relative;}#sk-container-id-2 div.sk-item::before, #sk-container-id-2 div.sk-parallel-item::before {content: \"\";position: absolute;border-left: 1px solid gray;box-sizing: border-box;top: 0;bottom: 0;left: 50%;z-index: -1;}#sk-container-id-2 div.sk-parallel-item {display: flex;flex-direction: column;z-index: 1;position: relative;background-color: white;}#sk-container-id-2 div.sk-parallel-item:first-child::after {align-self: flex-end;width: 50%;}#sk-container-id-2 div.sk-parallel-item:last-child::after {align-self: flex-start;width: 50%;}#sk-container-id-2 div.sk-parallel-item:only-child::after {width: 0;}#sk-container-id-2 div.sk-dashed-wrapped {border: 1px dashed gray;margin: 0 0.4em 0.5em 0.4em;box-sizing: border-box;padding-bottom: 0.4em;background-color: white;}#sk-container-id-2 div.sk-label label {font-family: monospace;font-weight: bold;display: inline-block;line-height: 1.2em;}#sk-container-id-2 div.sk-label-container {text-align: center;}#sk-container-id-2 div.sk-container {/* jupyter's `normalize.less` sets `[hidden] { display: none; }` but bootstrap.min.css set `[hidden] { display: none !important; }` so we also need the `!important` here to be able to override the default hidden behavior on the sphinx rendered scikit-learn.org. See: https://github.com/scikit-learn/scikit-learn/issues/21755 */display: inline-block !important;position: relative;}#sk-container-id-2 div.sk-text-repr-fallback {display: none;}</style><div id=\"sk-container-id-2\" class=\"sk-top-container\"><div class=\"sk-text-repr-fallback\"><pre>LogisticRegression()</pre><b>In a Jupyter environment, please rerun this cell to show the HTML representation or trust the notebook. <br />On GitHub, the HTML representation is unable to render, please try loading this page with nbviewer.org.</b></div><div class=\"sk-container\" hidden><div class=\"sk-item\"><div class=\"sk-estimator sk-toggleable\"><input class=\"sk-toggleable__control sk-hidden--visually\" id=\"sk-estimator-id-2\" type=\"checkbox\" checked><label for=\"sk-estimator-id-2\" class=\"sk-toggleable__label sk-toggleable__label-arrow\">LogisticRegression</label><div class=\"sk-toggleable__content\"><pre>LogisticRegression()</pre></div></div></div></div></div>"
      ],
      "text/plain": [
       "LogisticRegression()"
      ]
     },
     "execution_count": 35,
     "metadata": {},
     "output_type": "execute_result"
    }
   ],
   "source": [
    "logreg = LogisticRegression()\n",
    "logreg.fit(X_train,y_train)"
   ]
  },
  {
   "cell_type": "code",
   "execution_count": 36,
   "metadata": {
    "id": "yPVkITcSbzV1"
   },
   "outputs": [],
   "source": [
    "# Prediction\n",
    "\n",
    "y_pred=logreg.predict(X_test)"
   ]
  },
  {
   "cell_type": "markdown",
   "metadata": {
    "id": "KToGW5c-fkJ1"
   },
   "source": [
    "**Model Evaluation**"
   ]
  },
  {
   "cell_type": "code",
   "execution_count": 37,
   "metadata": {
    "colab": {
     "base_uri": "https://localhost:8080/",
     "height": 343
    },
    "id": "Zq00Rh0ybzR0",
    "outputId": "104e9b0c-495d-4eb5-8beb-4dd1e89e4818"
   },
   "outputs": [
    {
     "data": {
      "text/plain": [
       "Text(0.5, 257.44, 'Predicted label')"
      ]
     },
     "execution_count": 37,
     "metadata": {},
     "output_type": "execute_result"
    },
    {
     "data": {
      "image/png": "[encoded data removed]",
      "text/plain": [
       "<Figure size 432x288 with 2 Axes>"
      ]
     },
     "metadata": {
      "needs_background": "light"
     },
     "output_type": "display_data"
    }
   ],
   "source": [
    "cnf_matrix = metrics.confusion_matrix(y_test, y_pred)\n",
    "class_names=[0,1] # name  of classes\n",
    "fig, ax = plt.subplots()\n",
    "tick_marks = np.arange(len(class_names))\n",
    "plt.xticks(tick_marks, class_names)\n",
    "plt.yticks(tick_marks, class_names)\n",
    "# create heatmap\n",
    "sns.heatmap(pd.DataFrame(cnf_matrix), annot=True, cmap=\"YlGnBu\" ,fmt='g')\n",
    "ax.xaxis.set_label_position(\"top\")\n",
    "plt.tight_layout()\n",
    "plt.title('Confusion matrix', y=1.1)\n",
    "plt.ylabel('Actual label')\n",
    "plt.xlabel('Predicted label')"
   ]
  },
  {
   "cell_type": "code",
   "execution_count": 38,
   "metadata": {
    "colab": {
     "base_uri": "https://localhost:8080/"
    },
    "id": "Rls3g0MqbzIq",
    "outputId": "fea39ece-bee9-4342-b9f4-d03ac44ae597"
   },
   "outputs": [
    {
     "name": "stdout",
     "output_type": "stream",
     "text": [
      "Accuracy: 0.9984215402564425\n",
      "Precision: 0.9977924944812362\n",
      "Recall: 0.9978554308061057\n"
     ]
    }
   ],
   "source": [
    "print(\"Accuracy:\",metrics.accuracy_score(y_test, y_pred))\n",
    "print(\"Precision:\",metrics.precision_score(y_test, y_pred))\n",
    "print(\"Recall:\",metrics.recall_score(y_test, y_pred))"
   ]
  },
  {
   "cell_type": "markdown",
   "metadata": {
    "id": "nIsiQhORgIWT"
   },
   "source": [
    "## K-Nearest Neighbor(KNN)"
   ]
  },
  {
   "cell_type": "code",
   "execution_count": 51,
   "metadata": {
    "id": "3-D1vwbogH5K"
   },
   "outputs": [],
   "source": [
    "#Create KNN Classifier\n",
    "knn = KNeighborsClassifier(n_neighbors=5)\n",
    "\n",
    "#Train the model using the training sets\n",
    "knn.fit(X_train, y_train)\n",
    "\n",
    "#Predict the response for test dataset\n",
    "y_pred = knn.predict(X_test) # Will take 7 min"
   ]
  },
  {
   "cell_type": "markdown",
   "metadata": {
    "id": "8kyHXtFChJrj"
   },
   "source": [
    "**Model Evaluation**"
   ]
  },
  {
   "cell_type": "code",
   "execution_count": 52,
   "metadata": {
    "colab": {
     "base_uri": "https://localhost:8080/",
     "height": 343
    },
    "id": "QFryuSOFhJsH",
    "outputId": "52164965-c481-4bc7-ab27-4d79e7952962"
   },
   "outputs": [
    {
     "data": {
      "text/plain": [
       "Text(0.5, 257.44, 'Predicted label')"
      ]
     },
     "execution_count": 52,
     "metadata": {},
     "output_type": "execute_result"
    },
    {
     "data": {
      "image/png": "[encoded data removed]",
      "text/plain": [
       "<Figure size 432x288 with 2 Axes>"
      ]
     },
     "metadata": {
      "needs_background": "light"
     },
     "output_type": "display_data"
    }
   ],
   "source": [
    "cnf_matrix = metrics.confusion_matrix(y_test, y_pred)\n",
    "class_names=[0,1] # name  of classes\n",
    "fig, ax = plt.subplots()\n",
    "tick_marks = np.arange(len(class_names))\n",
    "plt.xticks(tick_marks, class_names)\n",
    "plt.yticks(tick_marks, class_names)\n",
    "# create heatmap\n",
    "sns.heatmap(pd.DataFrame(cnf_matrix), annot=True, cmap=\"YlGnBu\" ,fmt='g')\n",
    "ax.xaxis.set_label_position(\"top\")\n",
    "plt.tight_layout()\n",
    "plt.title('Confusion matrix', y=1.1)\n",
    "plt.ylabel('Actual label')\n",
    "plt.xlabel('Predicted label')"
   ]
  },
  {
   "cell_type": "code",
   "execution_count": 53,
   "metadata": {
    "colab": {
     "base_uri": "https://localhost:8080/"
    },
    "id": "xOM1U9U3hJsL",
    "outputId": "b16f0edf-de0d-4d51-fb9b-7fa9196a4d2f"
   },
   "outputs": [
    {
     "name": "stdout",
     "output_type": "stream",
     "text": [
      "Accuracy: 0.999313713154975\n",
      "Precision: 0.9992428066633013\n",
      "Recall: 0.9988646398385266\n"
     ]
    }
   ],
   "source": [
    "print(\"Accuracy:\",metrics.accuracy_score(y_test, y_pred))\n",
    "print(\"Precision:\",metrics.precision_score(y_test, y_pred))\n",
    "print(\"Recall:\",metrics.recall_score(y_test, y_pred))"
   ]
  },
  {
   "cell_type": "markdown",
   "metadata": {
    "id": "rg7xpNbqh_DW"
   },
   "source": [
    "We will try to find in which Class the customers having the PPM and consider that class of customers might prepay their loans."
   ]
  },
  {
   "cell_type": "markdown",
   "metadata": {
    "id": "dspSDnbGH5vX"
   },
   "source": [
    "###2) Considering \"PPM\" as target variable (Model 2)"
   ]
  },
  {
   "cell_type": "markdown",
   "metadata": {
    "id": "Pxyufs3uGk-5"
   },
   "source": [
    "**Spliting data into Features and Target**"
   ]
  },
  {
   "cell_type": "code",
   "execution_count": 54,
   "metadata": {
    "id": "TFdCDgh8Grr5"
   },
   "outputs": [],
   "source": [
    "X = df_final.drop(columns = ['PPM'], axis = 1)\n",
    "y = df_final['PPM']"
   ]
  },
  {
   "cell_type": "code",
   "execution_count": 55,
   "metadata": {
    "id": "Xjrtio4uGrYq"
   },
   "outputs": [],
   "source": [
    "X_scaled = scale.fit_transform(X)"
   ]
  },
  {
   "cell_type": "markdown",
   "metadata": {
    "id": "HGJjqh7thq3f"
   },
   "source": [
    "###Logistic Regression"
   ]
  },
  {
   "cell_type": "code",
   "execution_count": 56,
   "metadata": {
    "colab": {
     "base_uri": "https://localhost:8080/"
    },
    "id": "PW2ZvApsGrUX",
    "outputId": "d2b9f2fe-7ca4-4f56-e97c-b9aeb15b618d"
   },
   "outputs": [
    {
     "data": {
      "text/plain": [
       "0.999954247543665"
      ]
     },
     "execution_count": 56,
     "metadata": {},
     "output_type": "execute_result"
    }
   ],
   "source": [
    "model= LogisticRegression(solver='newton-cg', class_weight='balanced')\n",
    "model.fit(X_train,y_train)\n",
    "model.score(X_test, y_test)"
   ]
  },
  {
   "cell_type": "code",
   "execution_count": 57,
   "metadata": {
    "colab": {
     "base_uri": "https://localhost:8080/"
    },
    "id": "0GBRu6FAFsEQ",
    "outputId": "1b5f7031-76d5-43b1-8091-b03fb151ce1f"
   },
   "outputs": [
    {
     "name": "stdout",
     "output_type": "stream",
     "text": [
      "              precision    recall  f1-score   support\n",
      "\n",
      "           0       1.00      1.00      1.00     55719\n",
      "           1       1.00      1.00      1.00     31708\n",
      "\n",
      "    accuracy                           1.00     87427\n",
      "   macro avg       1.00      1.00      1.00     87427\n",
      "weighted avg       1.00      1.00      1.00     87427\n",
      "\n"
     ]
    }
   ],
   "source": [
    "preds = model.predict(X_test)\n",
    "print(classification_report(y_test, preds))"
   ]
  },
  {
   "cell_type": "markdown",
   "metadata": {
    "id": "8MNRPuf6im-7"
   },
   "source": [
    "###K-Nearest Neighbors"
   ]
  },
  {
   "cell_type": "code",
   "execution_count": 58,
   "metadata": {
    "colab": {
     "base_uri": "https://localhost:8080/"
    },
    "id": "0WoRic3sh38z",
    "outputId": "9d22ec1b-356e-462b-92d8-8d11d4b53ffb"
   },
   "outputs": [
    {
     "data": {
      "text/html": [
       "<style>#sk-container-id-3 {color: black;background-color: white;}#sk-container-id-3 pre{padding: 0;}#sk-container-id-3 div.sk-toggleable {background-color: white;}#sk-container-id-3 label.sk-toggleable__label {cursor: pointer;display: block;width: 100%;margin-bottom: 0;padding: 0.3em;box-sizing: border-box;text-align: center;}#sk-container-id-3 label.sk-toggleable__label-arrow:before {content: \"▸\";float: left;margin-right: 0.25em;color: #696969;}#sk-container-id-3 label.sk-toggleable__label-arrow:hover:before {color: black;}#sk-container-id-3 div.sk-estimator:hover label.sk-toggleable__label-arrow:before {color: black;}#sk-container-id-3 div.sk-toggleable__content {max-height: 0;max-width: 0;overflow: hidden;text-align: left;background-color: #f0f8ff;}#sk-container-id-3 div.sk-toggleable__content pre {margin: 0.2em;color: black;border-radius: 0.25em;background-color: #f0f8ff;}#sk-container-id-3 input.sk-toggleable__control:checked~div.sk-toggleable__content {max-height: 200px;max-width: 100%;overflow: auto;}#sk-container-id-3 input.sk-toggleable__control:checked~label.sk-toggleable__label-arrow:before {content: \"▾\";}#sk-container-id-3 div.sk-estimator input.sk-toggleable__control:checked~label.sk-toggleable__label {background-color: #d4ebff;}#sk-container-id-3 div.sk-label input.sk-toggleable__control:checked~label.sk-toggleable__label {background-color: #d4ebff;}#sk-container-id-3 input.sk-hidden--visually {border: 0;clip: rect(1px 1px 1px 1px);clip: rect(1px, 1px, 1px, 1px);height: 1px;margin: -1px;overflow: hidden;padding: 0;position: absolute;width: 1px;}#sk-container-id-3 div.sk-estimator {font-family: monospace;background-color: #f0f8ff;border: 1px dotted black;border-radius: 0.25em;box-sizing: border-box;margin-bottom: 0.5em;}#sk-container-id-3 div.sk-estimator:hover {background-color: #d4ebff;}#sk-container-id-3 div.sk-parallel-item::after {content: \"\";width: 100%;border-bottom: 1px solid gray;flex-grow: 1;}#sk-container-id-3 div.sk-label:hover label.sk-toggleable__label {background-color: #d4ebff;}#sk-container-id-3 div.sk-serial::before {content: \"\";position: absolute;border-left: 1px solid gray;box-sizing: border-box;top: 0;bottom: 0;left: 50%;z-index: 0;}#sk-container-id-3 div.sk-serial {display: flex;flex-direction: column;align-items: center;background-color: white;padding-right: 0.2em;padding-left: 0.2em;position: relative;}#sk-container-id-3 div.sk-item {position: relative;z-index: 1;}#sk-container-id-3 div.sk-parallel {display: flex;align-items: stretch;justify-content: center;background-color: white;position: relative;}#sk-container-id-3 div.sk-item::before, #sk-container-id-3 div.sk-parallel-item::before {content: \"\";position: absolute;border-left: 1px solid gray;box-sizing: border-box;top: 0;bottom: 0;left: 50%;z-index: -1;}#sk-container-id-3 div.sk-parallel-item {display: flex;flex-direction: column;z-index: 1;position: relative;background-color: white;}#sk-container-id-3 div.sk-parallel-item:first-child::after {align-self: flex-end;width: 50%;}#sk-container-id-3 div.sk-parallel-item:last-child::after {align-self: flex-start;width: 50%;}#sk-container-id-3 div.sk-parallel-item:only-child::after {width: 0;}#sk-container-id-3 div.sk-dashed-wrapped {border: 1px dashed gray;margin: 0 0.4em 0.5em 0.4em;box-sizing: border-box;padding-bottom: 0.4em;background-color: white;}#sk-container-id-3 div.sk-label label {font-family: monospace;font-weight: bold;display: inline-block;line-height: 1.2em;}#sk-container-id-3 div.sk-label-container {text-align: center;}#sk-container-id-3 div.sk-container {/* jupyter's `normalize.less` sets `[hidden] { display: none; }` but bootstrap.min.css set `[hidden] { display: none !important; }` so we also need the `!important` here to be able to override the default hidden behavior on the sphinx rendered scikit-learn.org. See: https://github.com/scikit-learn/scikit-learn/issues/21755 */display: inline-block !important;position: relative;}#sk-container-id-3 div.sk-text-repr-fallback {display: none;}</style><div id=\"sk-container-id-3\" class=\"sk-top-container\"><div class=\"sk-text-repr-fallback\"><pre>KNeighborsClassifier()</pre><b>In a Jupyter environment, please rerun this cell to show the HTML representation or trust the notebook. <br />On GitHub, the HTML representation is unable to render, please try loading this page with nbviewer.org.</b></div><div class=\"sk-container\" hidden><div class=\"sk-item\"><div class=\"sk-estimator sk-toggleable\"><input class=\"sk-toggleable__control sk-hidden--visually\" id=\"sk-estimator-id-3\" type=\"checkbox\" checked><label for=\"sk-estimator-id-3\" class=\"sk-toggleable__label sk-toggleable__label-arrow\">KNeighborsClassifier</label><div class=\"sk-toggleable__content\"><pre>KNeighborsClassifier()</pre></div></div></div></div></div>"
      ],
      "text/plain": [
       "KNeighborsClassifier()"
      ]
     },
     "execution_count": 58,
     "metadata": {},
     "output_type": "execute_result"
    }
   ],
   "source": [
    "classifier= KNeighborsClassifier(n_neighbors=5, metric='minkowski', p=2 )  \n",
    "classifier.fit(X_train, y_train) "
   ]
  },
  {
   "cell_type": "code",
   "execution_count": 59,
   "metadata": {
    "colab": {
     "base_uri": "https://localhost:8080/"
    },
    "id": "WLqr_EXSh35C",
    "outputId": "752d343f-96c9-4d7e-e575-ee6c47fbdd33"
   },
   "outputs": [
    {
     "name": "stdout",
     "output_type": "stream",
     "text": [
      "              precision    recall  f1-score   support\n",
      "\n",
      "           0       1.00      1.00      1.00     55719\n",
      "           1       1.00      1.00      1.00     31708\n",
      "\n",
      "    accuracy                           1.00     87427\n",
      "   macro avg       1.00      1.00      1.00     87427\n",
      "weighted avg       1.00      1.00      1.00     87427\n",
      "\n"
     ]
    }
   ],
   "source": [
    "preds = classifier.predict(X_test)\n",
    "print(classification_report(y_test, preds))"
   ]
  },
  {
   "cell_type": "code",
   "execution_count": 60,
   "metadata": {},
   "outputs": [],
   "source": [
    "import pickle\n",
    " \n",
    "with open('LR_model.pkl', 'wb') as files:\n",
    "    pickle.dump(model, files)\n",
    " \n",
    "#Load the pickled model\n",
    "# LR_from_pickle = pickle.loads(saved_model)\n",
    " \n",
    "# # Use the loaded pickled model to make predictions\n",
    "# LR_from_pickle.predict(X_test)"
   ]
  },
  {
   "cell_type": "code",
   "execution_count": 39,
   "metadata": {},
   "outputs": [],
   "source": [
    "import pickle\n",
    "with open('LR_model.pkl', 'rb') as files:\n",
    "    loaded_model = pickle.load(files)\n",
    "\n"
   ]
  },
  {
   "cell_type": "code",
   "execution_count": 131,
   "metadata": {},
   "outputs": [
    {
     "data": {
      "text/plain": [
       "array([0, 0, 1, 0, 0, 0, 0, 0, 1, 1], dtype=int32)"
      ]
     },
     "execution_count": 131,
     "metadata": {},
     "output_type": "execute_result"
    }
   ],
   "source": [
    "lp = loaded_model.predict(X_test)\n",
    "lp[0:10]"
   ]
  },
  {
   "cell_type": "code",
   "execution_count": 40,
   "metadata": {},
   "outputs": [
    {
     "name": "stdout",
     "output_type": "stream",
     "text": [
      "              precision    recall  f1-score   support\n",
      "\n",
      "           0       1.00      1.00      1.00     55719\n",
      "           1       1.00      1.00      1.00     31708\n",
      "\n",
      "    accuracy                           1.00     87427\n",
      "   macro avg       1.00      1.00      1.00     87427\n",
      "weighted avg       1.00      1.00      1.00     87427\n",
      "\n"
     ]
    }
   ],
   "source": [
    "loaded_preds = loaded_model.predict(X_test)\n",
    "print(classification_report(y_test, loaded_preds))"
   ]
  },
  {
   "cell_type": "code",
   "execution_count": 41,
   "metadata": {},
   "outputs": [],
   "source": [
    "X_test.to_csv('Test_Data.csv', index=False)"
   ]
  },
  {
   "cell_type": "code",
   "execution_count": null,
   "metadata": {},
   "outputs": [
    {
     "name": "stdout",
     "output_type": "stream",
     "text": [
      " * Serving Flask app \"__main__\" (lazy loading)\n",
      " * Environment: production\n",
      "\u001b[31m   WARNING: This is a development server. Do not use it in a production deployment.\u001b[0m\n",
      "\u001b[2m   Use a production WSGI server instead.\u001b[0m\n",
      " * Debug mode: off\n"
     ]
    },
    {
     "name": "stderr",
     "output_type": "stream",
     "text": [
      " * Running on http://127.0.0.1:5000/ (Press CTRL+C to quit)\n",
      "127.0.0.1 - - [17/Jun/2022 16:55:34] \"\u001b[37mGET / HTTP/1.1\u001b[0m\" 200 -\n",
      "127.0.0.1 - - [17/Jun/2022 16:56:47] \"\u001b[37mPOST /predict HTTP/1.1\u001b[0m\" 200 -\n",
      "127.0.0.1 - - [17/Jun/2022 16:57:41] \"\u001b[37mGET / HTTP/1.1\u001b[0m\" 200 -\n",
      "127.0.0.1 - - [17/Jun/2022 16:58:09] \"\u001b[37mGET / HTTP/1.1\u001b[0m\" 200 -\n"
     ]
    }
   ],
   "source": [
    "# Importing flask module in the project is mandatory\n",
    "# An object of Flask class is our WSGI application.\n",
    "from flask import Flask, render_template, request\n",
    "  \n",
    "# Flask constructor takes the name of \n",
    "# current module (__name__) as argument.\n",
    "app = Flask(__name__)\n",
    "  \n",
    "# The route() function of the Flask class is a decorator, \n",
    "# which tells the application which URL should call \n",
    "# the associated function.\n",
    "\n",
    "@app.route('/')\n",
    "def home():\n",
    "    return render_template('EnterPredictions.html')\n",
    "\n",
    "def prediction_service(to_predict_list):\n",
    "    to_predict = np.array(to_predict_list).reshape(1, 18)\n",
    "    with open('LR_model.pkl', 'rb') as files:\n",
    "        loaded_model = pickle.load(files)\n",
    "        result = loaded_model.predict_proba(to_predict)\n",
    "        return result[0]\n",
    "    \n",
    "    \n",
    "\n",
    "@app.route('/predict', methods = ['GET', 'POST'])\n",
    "def predict():\n",
    "    if request.method == 'POST':\n",
    "        to_predict_list = request.form.to_dict()\n",
    "        to_predict_list = list(to_predict_list.values())\n",
    "        to_predict_list = list(map(float, to_predict_list))\n",
    "        no, yes = prediction_service(to_predict_list)\n",
    "        if yes > no:\n",
    "            prediction = 'There is pre payment risk with %s%% confidence' % (str(yes*100))\n",
    "        elif yes < no:\n",
    "            prediction = 'There is no pre payment risk with %s%% confidence' % (str(no*100))           \n",
    "        else:\n",
    "            prediction = 'Equal chance of pre payment and no pre payment'\n",
    "        return render_template(\"result.html\", prediction_text = prediction)\n",
    "      \n",
    "    \n",
    "\n",
    "  \n",
    "# main driver function\n",
    "if __name__ == '__main__':\n",
    "  \n",
    "    # run() method of Flask class runs the application \n",
    "    # on the local development server.\n",
    "    app.run()"
   ]
  },
  {
   "cell_type": "code",
   "execution_count": 71,
   "metadata": {},
   "outputs": [
    {
     "ename": "IndentationError",
     "evalue": "unindent does not match any outer indentation level (<tokenize>, line 7)",
     "output_type": "error",
     "traceback": [
      "\u001b[0;36m  File \u001b[0;32m\"<tokenize>\"\u001b[0;36m, line \u001b[0;32m7\u001b[0m\n\u001b[0;31m    <fieldset>\u001b[0m\n\u001b[0m    ^\u001b[0m\n\u001b[0;31mIndentationError\u001b[0m\u001b[0;31m:\u001b[0m unindent does not match any outer indentation level\n"
     ]
    }
   ],
   "source": []
  },
  {
   "cell_type": "code",
   "execution_count": 106,
   "metadata": {},
   "outputs": [
    {
     "data": {
      "text/plain": [
       "(0.0    69943\n",
       " 1.0    17484\n",
       " Name: EverDelinquent, dtype: int64,\n",
       " 0.0    163822\n",
       " 1.0     40173\n",
       " Name: EverDelinquent, dtype: int64)"
      ]
     },
     "execution_count": 106,
     "metadata": {},
     "output_type": "execute_result"
    }
   ],
   "source": [
    "X_test.EverDelinquent.value_counts(), X_train.EverDelinquent.value_counts()"
   ]
  },
  {
   "cell_type": "code",
   "execution_count": 107,
   "metadata": {},
   "outputs": [
    {
     "data": {
      "text/plain": [
       "0    233788\n",
       "1     57663\n",
       "Name: EverDelinquent, dtype: int64"
      ]
     },
     "execution_count": 107,
     "metadata": {},
     "output_type": "execute_result"
    }
   ],
   "source": [
    "df_loan.EverDelinquent.value_counts()"
   ]
  },
  {
   "cell_type": "code",
   "execution_count": 108,
   "metadata": {},
   "outputs": [
    {
     "data": {
      "text/html": [
       "<div>\n",
       "<style scoped>\n",
       "    .dataframe tbody tr th:only-of-type {\n",
       "        vertical-align: middle;\n",
       "    }\n",
       "\n",
       "    .dataframe tbody tr th {\n",
       "        vertical-align: top;\n",
       "    }\n",
       "\n",
       "    .dataframe thead th {\n",
       "        text-align: right;\n",
       "    }\n",
       "</style>\n",
       "<table border=\"1\" class=\"dataframe\">\n",
       "  <thead>\n",
       "    <tr style=\"text-align: right;\">\n",
       "      <th></th>\n",
       "      <th>CreditScore</th>\n",
       "      <th>FirstTimeHomebuyer</th>\n",
       "      <th>MSA</th>\n",
       "      <th>MIP</th>\n",
       "      <th>Units</th>\n",
       "      <th>Occupancy</th>\n",
       "      <th>DTI</th>\n",
       "      <th>OrigUPB</th>\n",
       "      <th>LTV</th>\n",
       "      <th>OrigInterestRate</th>\n",
       "      <th>Channel</th>\n",
       "      <th>PPM</th>\n",
       "      <th>PropertyType</th>\n",
       "      <th>LoanPurpose</th>\n",
       "      <th>OrigLoanTerm</th>\n",
       "      <th>NumBorrowers</th>\n",
       "      <th>EverDelinquent</th>\n",
       "      <th>MonthsInRepayment</th>\n",
       "    </tr>\n",
       "  </thead>\n",
       "  <tbody>\n",
       "    <tr>\n",
       "      <th>8743</th>\n",
       "      <td>157.0</td>\n",
       "      <td>0.0</td>\n",
       "      <td>1.0</td>\n",
       "      <td>17.0</td>\n",
       "      <td>0.0</td>\n",
       "      <td>1.0</td>\n",
       "      <td>19.0</td>\n",
       "      <td>38.0</td>\n",
       "      <td>79.0</td>\n",
       "      <td>137.0</td>\n",
       "      <td>3.0</td>\n",
       "      <td>0.0</td>\n",
       "      <td>5.0</td>\n",
       "      <td>1.0</td>\n",
       "      <td>59.0</td>\n",
       "      <td>1.0</td>\n",
       "      <td>1.0</td>\n",
       "      <td>109.0</td>\n",
       "    </tr>\n",
       "    <tr>\n",
       "      <th>152759</th>\n",
       "      <td>223</td>\n",
       "      <td>0</td>\n",
       "      <td>1.0</td>\n",
       "      <td>0.0</td>\n",
       "      <td>0.0</td>\n",
       "      <td>1.0</td>\n",
       "      <td>42.0</td>\n",
       "      <td>1.0</td>\n",
       "      <td>62.0</td>\n",
       "      <td>87.0</td>\n",
       "      <td>3.0</td>\n",
       "      <td>0</td>\n",
       "      <td>5.0</td>\n",
       "      <td>0.0</td>\n",
       "      <td>59.0</td>\n",
       "      <td>0</td>\n",
       "      <td>0.0</td>\n",
       "      <td>171.0</td>\n",
       "    </tr>\n",
       "    <tr>\n",
       "      <th>140132</th>\n",
       "      <td>214</td>\n",
       "      <td>0</td>\n",
       "      <td>1.0</td>\n",
       "      <td>0.0</td>\n",
       "      <td>0.0</td>\n",
       "      <td>1.0</td>\n",
       "      <td>39.0</td>\n",
       "      <td>340.0</td>\n",
       "      <td>72.0</td>\n",
       "      <td>59.0</td>\n",
       "      <td>3.0</td>\n",
       "      <td>0</td>\n",
       "      <td>5.0</td>\n",
       "      <td>1.0</td>\n",
       "      <td>59.0</td>\n",
       "      <td>1</td>\n",
       "      <td>1.0</td>\n",
       "      <td>50.0</td>\n",
       "    </tr>\n",
       "    <tr>\n",
       "      <th>176272</th>\n",
       "      <td>242</td>\n",
       "      <td>0</td>\n",
       "      <td>1.0</td>\n",
       "      <td>10.0</td>\n",
       "      <td>0.0</td>\n",
       "      <td>1.0</td>\n",
       "      <td>11.0</td>\n",
       "      <td>68.0</td>\n",
       "      <td>93.0</td>\n",
       "      <td>116.0</td>\n",
       "      <td>2.0</td>\n",
       "      <td>0</td>\n",
       "      <td>5.0</td>\n",
       "      <td>2.0</td>\n",
       "      <td>59.0</td>\n",
       "      <td>0</td>\n",
       "      <td>0.0</td>\n",
       "      <td>130.0</td>\n",
       "    </tr>\n",
       "    <tr>\n",
       "      <th>128397</th>\n",
       "      <td>306.0</td>\n",
       "      <td>0.0</td>\n",
       "      <td>1.0</td>\n",
       "      <td>0.0</td>\n",
       "      <td>0.0</td>\n",
       "      <td>1.0</td>\n",
       "      <td>0.0</td>\n",
       "      <td>128.0</td>\n",
       "      <td>75.0</td>\n",
       "      <td>68.0</td>\n",
       "      <td>3.0</td>\n",
       "      <td>0.0</td>\n",
       "      <td>5.0</td>\n",
       "      <td>2.0</td>\n",
       "      <td>59.0</td>\n",
       "      <td>1.0</td>\n",
       "      <td>0.0</td>\n",
       "      <td>145.0</td>\n",
       "    </tr>\n",
       "  </tbody>\n",
       "</table>\n",
       "</div>"
      ],
      "text/plain": [
       "       CreditScore FirstTimeHomebuyer  MSA   MIP  Units  Occupancy   DTI  \\\n",
       "8743         157.0                0.0  1.0  17.0    0.0        1.0  19.0   \n",
       "152759         223                  0  1.0   0.0    0.0        1.0  42.0   \n",
       "140132         214                  0  1.0   0.0    0.0        1.0  39.0   \n",
       "176272         242                  0  1.0  10.0    0.0        1.0  11.0   \n",
       "128397       306.0                0.0  1.0   0.0    0.0        1.0   0.0   \n",
       "\n",
       "        OrigUPB   LTV  OrigInterestRate  Channel  PPM  PropertyType  \\\n",
       "8743       38.0  79.0             137.0      3.0  0.0           5.0   \n",
       "152759      1.0  62.0              87.0      3.0    0           5.0   \n",
       "140132    340.0  72.0              59.0      3.0    0           5.0   \n",
       "176272     68.0  93.0             116.0      2.0    0           5.0   \n",
       "128397    128.0  75.0              68.0      3.0  0.0           5.0   \n",
       "\n",
       "        LoanPurpose  OrigLoanTerm NumBorrowers  EverDelinquent  \\\n",
       "8743            1.0          59.0          1.0             1.0   \n",
       "152759          0.0          59.0            0             0.0   \n",
       "140132          1.0          59.0            1             1.0   \n",
       "176272          2.0          59.0            0             0.0   \n",
       "128397          2.0          59.0          1.0             0.0   \n",
       "\n",
       "        MonthsInRepayment  \n",
       "8743                109.0  \n",
       "152759              171.0  \n",
       "140132               50.0  \n",
       "176272              130.0  \n",
       "128397              145.0  "
      ]
     },
     "execution_count": 108,
     "metadata": {},
     "output_type": "execute_result"
    }
   ],
   "source": [
    "X_test.head()"
   ]
  },
  {
   "cell_type": "code",
   "execution_count": null,
   "metadata": {},
   "outputs": [],
   "source": [
    "'CreditScore','FirstTimeHomebuyer','MSA','MIP','Units','Occupancy','DTI', 'OrigUPB', 'LTV','OrigInterestRate', 'Channel', \n",
    "'PPM','PropertyType','LoanPurpose','OrigLoanTerm', 'NumBorrowers','EverDelinquent','MonthsInRepayment']\n"
   ]
  },
  {
   "cell_type": "code",
   "execution_count": 126,
   "metadata": {},
   "outputs": [
    {
     "data": {
      "text/plain": [
       "'There is pre payment risk with 3.4250000000000003% confidence'"
      ]
     },
     "execution_count": 126,
     "metadata": {},
     "output_type": "execute_result"
    }
   ],
   "source": [
    "yes = 0.03425\n",
    "s = 'There is pre payment risk with %s%% confidence' % (str(yes*100))\n",
    "s"
   ]
  },
  {
   "cell_type": "code",
   "execution_count": null,
   "metadata": {},
   "outputs": [],
   "source": []
  }
 ],
 "metadata": {
  "colab": {
   "collapsed_sections": [],
   "name": "ModelBuildingFinal.ipynb",
   "provenance": []
  },
  "kernelspec": {
   "display_name": "Python 3",
   "language": "python",
   "name": "python3"
  },
  "language_info": {
   "codemirror_mode": {
    "name": "ipython",
    "version": 3
   },
   "file_extension": ".py",
   "mimetype": "text/x-python",
   "name": "python",
   "nbconvert_exporter": "python",
   "pygments_lexer": "ipython3",
   "version": "3.8.8"
  }
 },
 "nbformat": 4,
 "nbformat_minor": 1
}
